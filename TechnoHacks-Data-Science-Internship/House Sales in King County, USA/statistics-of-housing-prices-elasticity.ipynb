{
 "cells": [
  {
   "cell_type": "markdown",
   "id": "138f4b80",
   "metadata": {
    "_cell_guid": "b1076dfc-b9ad-4769-8c92-a6c4dae69d19",
    "_uuid": "8f2839f25d086af736a60e9eeb907d3b93b6e0e5",
    "papermill": {
     "duration": 0.015369,
     "end_time": "2023-06-16T13:11:45.497664",
     "exception": false,
     "start_time": "2023-06-16T13:11:45.482295",
     "status": "completed"
    },
    "tags": []
   },
   "source": [
    "# Research goal: Predict house price using regression."
   ]
  },
  {
   "cell_type": "code",
   "execution_count": 1,
   "id": "c6be416b",
   "metadata": {
    "execution": {
     "iopub.execute_input": "2023-06-16T13:11:45.528410Z",
     "iopub.status.busy": "2023-06-16T13:11:45.528004Z",
     "iopub.status.idle": "2023-06-16T13:11:47.821641Z",
     "shell.execute_reply": "2023-06-16T13:11:47.820225Z"
    },
    "papermill": {
     "duration": 2.313088,
     "end_time": "2023-06-16T13:11:47.824571",
     "exception": false,
     "start_time": "2023-06-16T13:11:45.511483",
     "status": "completed"
    },
    "tags": []
   },
   "outputs": [],
   "source": [
    "#Ignore warnings\n",
    "import warnings\n",
    "warnings.filterwarnings(\"ignore\")\n",
    "\n",
    "#Math and vectors\n",
    "import pandas as pd\n",
    "import numpy as np\n",
    "\n",
    "#Visualization\n",
    "%matplotlib inline\n",
    "import matplotlib.pyplot as plt\n",
    "import seaborn as sns\n",
    "import missingno as msno\n",
    "\n",
    "#ML\n",
    "from sklearn.model_selection import train_test_split, GridSearchCV\n",
    "from sklearn.preprocessing import StandardScaler\n",
    "from sklearn.linear_model import LinearRegression, SGDRegressor\n",
    "from sklearn.ensemble import RandomForestRegressor\n",
    "from sklearn.metrics import r2_score, mean_squared_error\n",
    "from numpy.ma.core import floor\n",
    "\n",
    "import pickle"
   ]
  },
  {
   "cell_type": "code",
   "execution_count": 2,
   "id": "817c9bb0",
   "metadata": {
    "execution": {
     "iopub.execute_input": "2023-06-16T13:11:47.853578Z",
     "iopub.status.busy": "2023-06-16T13:11:47.852986Z",
     "iopub.status.idle": "2023-06-16T13:11:47.863138Z",
     "shell.execute_reply": "2023-06-16T13:11:47.862067Z"
    },
    "papermill": {
     "duration": 0.027505,
     "end_time": "2023-06-16T13:11:47.865673",
     "exception": false,
     "start_time": "2023-06-16T13:11:47.838168",
     "status": "completed"
    },
    "tags": []
   },
   "outputs": [
    {
     "name": "stdout",
     "output_type": "stream",
     "text": [
      "/kaggle/input/housesalesprediction/kc_house_data.csv\n"
     ]
    }
   ],
   "source": [
    "import os\n",
    "for dirname, _, filenames in os.walk('/kaggle/input'):\n",
    "    for filename in filenames:\n",
    "        print(os.path.join(dirname, filename))"
   ]
  },
  {
   "cell_type": "code",
   "execution_count": 3,
   "id": "e8ebe097",
   "metadata": {
    "execution": {
     "iopub.execute_input": "2023-06-16T13:11:47.894875Z",
     "iopub.status.busy": "2023-06-16T13:11:47.894463Z",
     "iopub.status.idle": "2023-06-16T13:11:48.036602Z",
     "shell.execute_reply": "2023-06-16T13:11:48.035585Z"
    },
    "papermill": {
     "duration": 0.15971,
     "end_time": "2023-06-16T13:11:48.039279",
     "exception": false,
     "start_time": "2023-06-16T13:11:47.879569",
     "status": "completed"
    },
    "tags": []
   },
   "outputs": [],
   "source": [
    "df = pd.read_csv(\"/kaggle/input/housesalesprediction/kc_house_data.csv\")"
   ]
  },
  {
   "cell_type": "code",
   "execution_count": 4,
   "id": "375c0a4d",
   "metadata": {
    "execution": {
     "iopub.execute_input": "2023-06-16T13:11:48.068387Z",
     "iopub.status.busy": "2023-06-16T13:11:48.067678Z",
     "iopub.status.idle": "2023-06-16T13:11:48.116445Z",
     "shell.execute_reply": "2023-06-16T13:11:48.115307Z"
    },
    "papermill": {
     "duration": 0.06644,
     "end_time": "2023-06-16T13:11:48.119315",
     "exception": false,
     "start_time": "2023-06-16T13:11:48.052875",
     "status": "completed"
    },
    "tags": []
   },
   "outputs": [
    {
     "data": {
      "text/html": [
       "<div>\n",
       "<style scoped>\n",
       "    .dataframe tbody tr th:only-of-type {\n",
       "        vertical-align: middle;\n",
       "    }\n",
       "\n",
       "    .dataframe tbody tr th {\n",
       "        vertical-align: top;\n",
       "    }\n",
       "\n",
       "    .dataframe thead th {\n",
       "        text-align: right;\n",
       "    }\n",
       "</style>\n",
       "<table border=\"1\" class=\"dataframe\">\n",
       "  <thead>\n",
       "    <tr style=\"text-align: right;\">\n",
       "      <th></th>\n",
       "      <th>id</th>\n",
       "      <th>date</th>\n",
       "      <th>price</th>\n",
       "      <th>bedrooms</th>\n",
       "      <th>bathrooms</th>\n",
       "      <th>sqft_living</th>\n",
       "      <th>sqft_lot</th>\n",
       "      <th>floors</th>\n",
       "      <th>waterfront</th>\n",
       "      <th>view</th>\n",
       "      <th>...</th>\n",
       "      <th>grade</th>\n",
       "      <th>sqft_above</th>\n",
       "      <th>sqft_basement</th>\n",
       "      <th>yr_built</th>\n",
       "      <th>yr_renovated</th>\n",
       "      <th>zipcode</th>\n",
       "      <th>lat</th>\n",
       "      <th>long</th>\n",
       "      <th>sqft_living15</th>\n",
       "      <th>sqft_lot15</th>\n",
       "    </tr>\n",
       "  </thead>\n",
       "  <tbody>\n",
       "    <tr>\n",
       "      <th>0</th>\n",
       "      <td>7129300520</td>\n",
       "      <td>20141013T000000</td>\n",
       "      <td>221900.0</td>\n",
       "      <td>3</td>\n",
       "      <td>1.00</td>\n",
       "      <td>1180</td>\n",
       "      <td>5650</td>\n",
       "      <td>1.0</td>\n",
       "      <td>0</td>\n",
       "      <td>0</td>\n",
       "      <td>...</td>\n",
       "      <td>7</td>\n",
       "      <td>1180</td>\n",
       "      <td>0</td>\n",
       "      <td>1955</td>\n",
       "      <td>0</td>\n",
       "      <td>98178</td>\n",
       "      <td>47.5112</td>\n",
       "      <td>-122.257</td>\n",
       "      <td>1340</td>\n",
       "      <td>5650</td>\n",
       "    </tr>\n",
       "    <tr>\n",
       "      <th>1</th>\n",
       "      <td>6414100192</td>\n",
       "      <td>20141209T000000</td>\n",
       "      <td>538000.0</td>\n",
       "      <td>3</td>\n",
       "      <td>2.25</td>\n",
       "      <td>2570</td>\n",
       "      <td>7242</td>\n",
       "      <td>2.0</td>\n",
       "      <td>0</td>\n",
       "      <td>0</td>\n",
       "      <td>...</td>\n",
       "      <td>7</td>\n",
       "      <td>2170</td>\n",
       "      <td>400</td>\n",
       "      <td>1951</td>\n",
       "      <td>1991</td>\n",
       "      <td>98125</td>\n",
       "      <td>47.7210</td>\n",
       "      <td>-122.319</td>\n",
       "      <td>1690</td>\n",
       "      <td>7639</td>\n",
       "    </tr>\n",
       "    <tr>\n",
       "      <th>2</th>\n",
       "      <td>5631500400</td>\n",
       "      <td>20150225T000000</td>\n",
       "      <td>180000.0</td>\n",
       "      <td>2</td>\n",
       "      <td>1.00</td>\n",
       "      <td>770</td>\n",
       "      <td>10000</td>\n",
       "      <td>1.0</td>\n",
       "      <td>0</td>\n",
       "      <td>0</td>\n",
       "      <td>...</td>\n",
       "      <td>6</td>\n",
       "      <td>770</td>\n",
       "      <td>0</td>\n",
       "      <td>1933</td>\n",
       "      <td>0</td>\n",
       "      <td>98028</td>\n",
       "      <td>47.7379</td>\n",
       "      <td>-122.233</td>\n",
       "      <td>2720</td>\n",
       "      <td>8062</td>\n",
       "    </tr>\n",
       "    <tr>\n",
       "      <th>3</th>\n",
       "      <td>2487200875</td>\n",
       "      <td>20141209T000000</td>\n",
       "      <td>604000.0</td>\n",
       "      <td>4</td>\n",
       "      <td>3.00</td>\n",
       "      <td>1960</td>\n",
       "      <td>5000</td>\n",
       "      <td>1.0</td>\n",
       "      <td>0</td>\n",
       "      <td>0</td>\n",
       "      <td>...</td>\n",
       "      <td>7</td>\n",
       "      <td>1050</td>\n",
       "      <td>910</td>\n",
       "      <td>1965</td>\n",
       "      <td>0</td>\n",
       "      <td>98136</td>\n",
       "      <td>47.5208</td>\n",
       "      <td>-122.393</td>\n",
       "      <td>1360</td>\n",
       "      <td>5000</td>\n",
       "    </tr>\n",
       "    <tr>\n",
       "      <th>4</th>\n",
       "      <td>1954400510</td>\n",
       "      <td>20150218T000000</td>\n",
       "      <td>510000.0</td>\n",
       "      <td>3</td>\n",
       "      <td>2.00</td>\n",
       "      <td>1680</td>\n",
       "      <td>8080</td>\n",
       "      <td>1.0</td>\n",
       "      <td>0</td>\n",
       "      <td>0</td>\n",
       "      <td>...</td>\n",
       "      <td>8</td>\n",
       "      <td>1680</td>\n",
       "      <td>0</td>\n",
       "      <td>1987</td>\n",
       "      <td>0</td>\n",
       "      <td>98074</td>\n",
       "      <td>47.6168</td>\n",
       "      <td>-122.045</td>\n",
       "      <td>1800</td>\n",
       "      <td>7503</td>\n",
       "    </tr>\n",
       "  </tbody>\n",
       "</table>\n",
       "<p>5 rows × 21 columns</p>\n",
       "</div>"
      ],
      "text/plain": [
       "           id             date     price  bedrooms  bathrooms  sqft_living  \\\n",
       "0  7129300520  20141013T000000  221900.0         3       1.00         1180   \n",
       "1  6414100192  20141209T000000  538000.0         3       2.25         2570   \n",
       "2  5631500400  20150225T000000  180000.0         2       1.00          770   \n",
       "3  2487200875  20141209T000000  604000.0         4       3.00         1960   \n",
       "4  1954400510  20150218T000000  510000.0         3       2.00         1680   \n",
       "\n",
       "   sqft_lot  floors  waterfront  view  ...  grade  sqft_above  sqft_basement  \\\n",
       "0      5650     1.0           0     0  ...      7        1180              0   \n",
       "1      7242     2.0           0     0  ...      7        2170            400   \n",
       "2     10000     1.0           0     0  ...      6         770              0   \n",
       "3      5000     1.0           0     0  ...      7        1050            910   \n",
       "4      8080     1.0           0     0  ...      8        1680              0   \n",
       "\n",
       "   yr_built  yr_renovated  zipcode      lat     long  sqft_living15  \\\n",
       "0      1955             0    98178  47.5112 -122.257           1340   \n",
       "1      1951          1991    98125  47.7210 -122.319           1690   \n",
       "2      1933             0    98028  47.7379 -122.233           2720   \n",
       "3      1965             0    98136  47.5208 -122.393           1360   \n",
       "4      1987             0    98074  47.6168 -122.045           1800   \n",
       "\n",
       "   sqft_lot15  \n",
       "0        5650  \n",
       "1        7639  \n",
       "2        8062  \n",
       "3        5000  \n",
       "4        7503  \n",
       "\n",
       "[5 rows x 21 columns]"
      ]
     },
     "execution_count": 4,
     "metadata": {},
     "output_type": "execute_result"
    }
   ],
   "source": [
    "df.head()"
   ]
  },
  {
   "cell_type": "code",
   "execution_count": 5,
   "id": "394981e4",
   "metadata": {
    "execution": {
     "iopub.execute_input": "2023-06-16T13:11:48.150036Z",
     "iopub.status.busy": "2023-06-16T13:11:48.149468Z",
     "iopub.status.idle": "2023-06-16T13:11:48.156956Z",
     "shell.execute_reply": "2023-06-16T13:11:48.155800Z"
    },
    "papermill": {
     "duration": 0.025937,
     "end_time": "2023-06-16T13:11:48.159206",
     "exception": false,
     "start_time": "2023-06-16T13:11:48.133269",
     "status": "completed"
    },
    "tags": []
   },
   "outputs": [
    {
     "data": {
      "text/plain": [
       "(21613, 21)"
      ]
     },
     "execution_count": 5,
     "metadata": {},
     "output_type": "execute_result"
    }
   ],
   "source": [
    "df.shape"
   ]
  },
  {
   "cell_type": "code",
   "execution_count": 6,
   "id": "14e2c1d9",
   "metadata": {
    "execution": {
     "iopub.execute_input": "2023-06-16T13:11:48.189417Z",
     "iopub.status.busy": "2023-06-16T13:11:48.188600Z",
     "iopub.status.idle": "2023-06-16T13:11:48.222170Z",
     "shell.execute_reply": "2023-06-16T13:11:48.220824Z"
    },
    "papermill": {
     "duration": 0.051803,
     "end_time": "2023-06-16T13:11:48.224912",
     "exception": false,
     "start_time": "2023-06-16T13:11:48.173109",
     "status": "completed"
    },
    "tags": []
   },
   "outputs": [
    {
     "name": "stdout",
     "output_type": "stream",
     "text": [
      "<class 'pandas.core.frame.DataFrame'>\n",
      "RangeIndex: 21613 entries, 0 to 21612\n",
      "Data columns (total 21 columns):\n",
      " #   Column         Non-Null Count  Dtype  \n",
      "---  ------         --------------  -----  \n",
      " 0   id             21613 non-null  int64  \n",
      " 1   date           21613 non-null  object \n",
      " 2   price          21613 non-null  float64\n",
      " 3   bedrooms       21613 non-null  int64  \n",
      " 4   bathrooms      21613 non-null  float64\n",
      " 5   sqft_living    21613 non-null  int64  \n",
      " 6   sqft_lot       21613 non-null  int64  \n",
      " 7   floors         21613 non-null  float64\n",
      " 8   waterfront     21613 non-null  int64  \n",
      " 9   view           21613 non-null  int64  \n",
      " 10  condition      21613 non-null  int64  \n",
      " 11  grade          21613 non-null  int64  \n",
      " 12  sqft_above     21613 non-null  int64  \n",
      " 13  sqft_basement  21613 non-null  int64  \n",
      " 14  yr_built       21613 non-null  int64  \n",
      " 15  yr_renovated   21613 non-null  int64  \n",
      " 16  zipcode        21613 non-null  int64  \n",
      " 17  lat            21613 non-null  float64\n",
      " 18  long           21613 non-null  float64\n",
      " 19  sqft_living15  21613 non-null  int64  \n",
      " 20  sqft_lot15     21613 non-null  int64  \n",
      "dtypes: float64(5), int64(15), object(1)\n",
      "memory usage: 3.5+ MB\n"
     ]
    }
   ],
   "source": [
    "df.info()"
   ]
  },
  {
   "cell_type": "code",
   "execution_count": 7,
   "id": "d7af8b77",
   "metadata": {
    "execution": {
     "iopub.execute_input": "2023-06-16T13:11:48.255850Z",
     "iopub.status.busy": "2023-06-16T13:11:48.255440Z",
     "iopub.status.idle": "2023-06-16T13:11:48.267270Z",
     "shell.execute_reply": "2023-06-16T13:11:48.266159Z"
    },
    "papermill": {
     "duration": 0.030652,
     "end_time": "2023-06-16T13:11:48.269866",
     "exception": false,
     "start_time": "2023-06-16T13:11:48.239214",
     "status": "completed"
    },
    "tags": []
   },
   "outputs": [
    {
     "data": {
      "text/plain": [
       "id                 int64\n",
       "date              object\n",
       "price            float64\n",
       "bedrooms           int64\n",
       "bathrooms        float64\n",
       "sqft_living        int64\n",
       "sqft_lot           int64\n",
       "floors           float64\n",
       "waterfront         int64\n",
       "view               int64\n",
       "condition          int64\n",
       "grade              int64\n",
       "sqft_above         int64\n",
       "sqft_basement      int64\n",
       "yr_built           int64\n",
       "yr_renovated       int64\n",
       "zipcode            int64\n",
       "lat              float64\n",
       "long             float64\n",
       "sqft_living15      int64\n",
       "sqft_lot15         int64\n",
       "dtype: object"
      ]
     },
     "execution_count": 7,
     "metadata": {},
     "output_type": "execute_result"
    }
   ],
   "source": [
    "df.dtypes"
   ]
  },
  {
   "cell_type": "code",
   "execution_count": 8,
   "id": "cd9f0d50",
   "metadata": {
    "execution": {
     "iopub.execute_input": "2023-06-16T13:11:48.303043Z",
     "iopub.status.busy": "2023-06-16T13:11:48.302648Z",
     "iopub.status.idle": "2023-06-16T13:11:48.323999Z",
     "shell.execute_reply": "2023-06-16T13:11:48.322841Z"
    },
    "papermill": {
     "duration": 0.04134,
     "end_time": "2023-06-16T13:11:48.326549",
     "exception": false,
     "start_time": "2023-06-16T13:11:48.285209",
     "status": "completed"
    },
    "tags": []
   },
   "outputs": [
    {
     "data": {
      "text/plain": [
       "id               21436\n",
       "date               372\n",
       "price             4028\n",
       "bedrooms            13\n",
       "bathrooms           30\n",
       "sqft_living       1038\n",
       "sqft_lot          9782\n",
       "floors               6\n",
       "waterfront           2\n",
       "view                 5\n",
       "condition            5\n",
       "grade               12\n",
       "sqft_above         946\n",
       "sqft_basement      306\n",
       "yr_built           116\n",
       "yr_renovated        70\n",
       "zipcode             70\n",
       "lat               5034\n",
       "long               752\n",
       "sqft_living15      777\n",
       "sqft_lot15        8689\n",
       "dtype: int64"
      ]
     },
     "execution_count": 8,
     "metadata": {},
     "output_type": "execute_result"
    }
   ],
   "source": [
    "df.nunique()"
   ]
  },
  {
   "cell_type": "code",
   "execution_count": 9,
   "id": "1594bb5f",
   "metadata": {
    "execution": {
     "iopub.execute_input": "2023-06-16T13:11:48.358279Z",
     "iopub.status.busy": "2023-06-16T13:11:48.357176Z",
     "iopub.status.idle": "2023-06-16T13:11:48.375273Z",
     "shell.execute_reply": "2023-06-16T13:11:48.373981Z"
    },
    "papermill": {
     "duration": 0.036914,
     "end_time": "2023-06-16T13:11:48.377951",
     "exception": false,
     "start_time": "2023-06-16T13:11:48.341037",
     "status": "completed"
    },
    "tags": []
   },
   "outputs": [
    {
     "data": {
      "text/plain": [
       "id               0\n",
       "date             0\n",
       "price            0\n",
       "bedrooms         0\n",
       "bathrooms        0\n",
       "sqft_living      0\n",
       "sqft_lot         0\n",
       "floors           0\n",
       "waterfront       0\n",
       "view             0\n",
       "condition        0\n",
       "grade            0\n",
       "sqft_above       0\n",
       "sqft_basement    0\n",
       "yr_built         0\n",
       "yr_renovated     0\n",
       "zipcode          0\n",
       "lat              0\n",
       "long             0\n",
       "sqft_living15    0\n",
       "sqft_lot15       0\n",
       "dtype: int64"
      ]
     },
     "execution_count": 9,
     "metadata": {},
     "output_type": "execute_result"
    }
   ],
   "source": [
    "df.isnull().sum()"
   ]
  },
  {
   "cell_type": "code",
   "execution_count": 10,
   "id": "01c2c4f2",
   "metadata": {
    "execution": {
     "iopub.execute_input": "2023-06-16T13:11:48.409716Z",
     "iopub.status.busy": "2023-06-16T13:11:48.409284Z",
     "iopub.status.idle": "2023-06-16T13:11:49.614927Z",
     "shell.execute_reply": "2023-06-16T13:11:49.613388Z"
    },
    "papermill": {
     "duration": 1.225032,
     "end_time": "2023-06-16T13:11:49.617659",
     "exception": false,
     "start_time": "2023-06-16T13:11:48.392627",
     "status": "completed"
    },
    "tags": []
   },
   "outputs": [
    {
     "data": {
      "text/plain": [
       "<Axes: >"
      ]
     },
     "execution_count": 10,
     "metadata": {},
     "output_type": "execute_result"
    },
    {
     "data": {
      "image/png": "[encoded data removed]",
      "text/plain": [
       "<Figure size 2500x1000 with 2 Axes>"
      ]
     },
     "metadata": {},
     "output_type": "display_data"
    }
   ],
   "source": [
    "msno.matrix(df)"
   ]
  },
  {
   "cell_type": "code",
   "execution_count": 11,
   "id": "f34c5b89",
   "metadata": {
    "execution": {
     "iopub.execute_input": "2023-06-16T13:11:49.651790Z",
     "iopub.status.busy": "2023-06-16T13:11:49.651381Z",
     "iopub.status.idle": "2023-06-16T13:11:49.677381Z",
     "shell.execute_reply": "2023-06-16T13:11:49.676379Z"
    },
    "papermill": {
     "duration": 0.046199,
     "end_time": "2023-06-16T13:11:49.679994",
     "exception": false,
     "start_time": "2023-06-16T13:11:49.633795",
     "status": "completed"
    },
    "tags": []
   },
   "outputs": [
    {
     "data": {
      "text/plain": [
       "0"
      ]
     },
     "execution_count": 11,
     "metadata": {},
     "output_type": "execute_result"
    }
   ],
   "source": [
    "df.duplicated().sum()"
   ]
  },
  {
   "cell_type": "code",
   "execution_count": 12,
   "id": "f339d66b",
   "metadata": {
    "execution": {
     "iopub.execute_input": "2023-06-16T13:11:49.713697Z",
     "iopub.status.busy": "2023-06-16T13:11:49.713022Z",
     "iopub.status.idle": "2023-06-16T13:11:49.807985Z",
     "shell.execute_reply": "2023-06-16T13:11:49.807127Z"
    },
    "papermill": {
     "duration": 0.114385,
     "end_time": "2023-06-16T13:11:49.810327",
     "exception": false,
     "start_time": "2023-06-16T13:11:49.695942",
     "status": "completed"
    },
    "tags": []
   },
   "outputs": [
    {
     "data": {
      "text/html": [
       "<div>\n",
       "<style scoped>\n",
       "    .dataframe tbody tr th:only-of-type {\n",
       "        vertical-align: middle;\n",
       "    }\n",
       "\n",
       "    .dataframe tbody tr th {\n",
       "        vertical-align: top;\n",
       "    }\n",
       "\n",
       "    .dataframe thead th {\n",
       "        text-align: right;\n",
       "    }\n",
       "</style>\n",
       "<table border=\"1\" class=\"dataframe\">\n",
       "  <thead>\n",
       "    <tr style=\"text-align: right;\">\n",
       "      <th></th>\n",
       "      <th>id</th>\n",
       "      <th>price</th>\n",
       "      <th>bedrooms</th>\n",
       "      <th>bathrooms</th>\n",
       "      <th>sqft_living</th>\n",
       "      <th>sqft_lot</th>\n",
       "      <th>floors</th>\n",
       "      <th>waterfront</th>\n",
       "      <th>view</th>\n",
       "      <th>condition</th>\n",
       "      <th>grade</th>\n",
       "      <th>sqft_above</th>\n",
       "      <th>sqft_basement</th>\n",
       "      <th>yr_built</th>\n",
       "      <th>yr_renovated</th>\n",
       "      <th>zipcode</th>\n",
       "      <th>lat</th>\n",
       "      <th>long</th>\n",
       "      <th>sqft_living15</th>\n",
       "      <th>sqft_lot15</th>\n",
       "    </tr>\n",
       "  </thead>\n",
       "  <tbody>\n",
       "    <tr>\n",
       "      <th>count</th>\n",
       "      <td>2.161300e+04</td>\n",
       "      <td>2.161300e+04</td>\n",
       "      <td>21613.000000</td>\n",
       "      <td>21613.000000</td>\n",
       "      <td>21613.000000</td>\n",
       "      <td>2.161300e+04</td>\n",
       "      <td>21613.000000</td>\n",
       "      <td>21613.000000</td>\n",
       "      <td>21613.000000</td>\n",
       "      <td>21613.000000</td>\n",
       "      <td>21613.000000</td>\n",
       "      <td>21613.000000</td>\n",
       "      <td>21613.000000</td>\n",
       "      <td>21613.000000</td>\n",
       "      <td>21613.000000</td>\n",
       "      <td>21613.000000</td>\n",
       "      <td>21613.000000</td>\n",
       "      <td>21613.000000</td>\n",
       "      <td>21613.000000</td>\n",
       "      <td>21613.000000</td>\n",
       "    </tr>\n",
       "    <tr>\n",
       "      <th>mean</th>\n",
       "      <td>4.580302e+09</td>\n",
       "      <td>5.400881e+05</td>\n",
       "      <td>3.370842</td>\n",
       "      <td>2.114757</td>\n",
       "      <td>2079.899736</td>\n",
       "      <td>1.510697e+04</td>\n",
       "      <td>1.494309</td>\n",
       "      <td>0.007542</td>\n",
       "      <td>0.234303</td>\n",
       "      <td>3.409430</td>\n",
       "      <td>7.656873</td>\n",
       "      <td>1788.390691</td>\n",
       "      <td>291.509045</td>\n",
       "      <td>1971.005136</td>\n",
       "      <td>84.402258</td>\n",
       "      <td>98077.939805</td>\n",
       "      <td>47.560053</td>\n",
       "      <td>-122.213896</td>\n",
       "      <td>1986.552492</td>\n",
       "      <td>12768.455652</td>\n",
       "    </tr>\n",
       "    <tr>\n",
       "      <th>std</th>\n",
       "      <td>2.876566e+09</td>\n",
       "      <td>3.671272e+05</td>\n",
       "      <td>0.930062</td>\n",
       "      <td>0.770163</td>\n",
       "      <td>918.440897</td>\n",
       "      <td>4.142051e+04</td>\n",
       "      <td>0.539989</td>\n",
       "      <td>0.086517</td>\n",
       "      <td>0.766318</td>\n",
       "      <td>0.650743</td>\n",
       "      <td>1.175459</td>\n",
       "      <td>828.090978</td>\n",
       "      <td>442.575043</td>\n",
       "      <td>29.373411</td>\n",
       "      <td>401.679240</td>\n",
       "      <td>53.505026</td>\n",
       "      <td>0.138564</td>\n",
       "      <td>0.140828</td>\n",
       "      <td>685.391304</td>\n",
       "      <td>27304.179631</td>\n",
       "    </tr>\n",
       "    <tr>\n",
       "      <th>min</th>\n",
       "      <td>1.000102e+06</td>\n",
       "      <td>7.500000e+04</td>\n",
       "      <td>0.000000</td>\n",
       "      <td>0.000000</td>\n",
       "      <td>290.000000</td>\n",
       "      <td>5.200000e+02</td>\n",
       "      <td>1.000000</td>\n",
       "      <td>0.000000</td>\n",
       "      <td>0.000000</td>\n",
       "      <td>1.000000</td>\n",
       "      <td>1.000000</td>\n",
       "      <td>290.000000</td>\n",
       "      <td>0.000000</td>\n",
       "      <td>1900.000000</td>\n",
       "      <td>0.000000</td>\n",
       "      <td>98001.000000</td>\n",
       "      <td>47.155900</td>\n",
       "      <td>-122.519000</td>\n",
       "      <td>399.000000</td>\n",
       "      <td>651.000000</td>\n",
       "    </tr>\n",
       "    <tr>\n",
       "      <th>25%</th>\n",
       "      <td>2.123049e+09</td>\n",
       "      <td>3.219500e+05</td>\n",
       "      <td>3.000000</td>\n",
       "      <td>1.750000</td>\n",
       "      <td>1427.000000</td>\n",
       "      <td>5.040000e+03</td>\n",
       "      <td>1.000000</td>\n",
       "      <td>0.000000</td>\n",
       "      <td>0.000000</td>\n",
       "      <td>3.000000</td>\n",
       "      <td>7.000000</td>\n",
       "      <td>1190.000000</td>\n",
       "      <td>0.000000</td>\n",
       "      <td>1951.000000</td>\n",
       "      <td>0.000000</td>\n",
       "      <td>98033.000000</td>\n",
       "      <td>47.471000</td>\n",
       "      <td>-122.328000</td>\n",
       "      <td>1490.000000</td>\n",
       "      <td>5100.000000</td>\n",
       "    </tr>\n",
       "    <tr>\n",
       "      <th>50%</th>\n",
       "      <td>3.904930e+09</td>\n",
       "      <td>4.500000e+05</td>\n",
       "      <td>3.000000</td>\n",
       "      <td>2.250000</td>\n",
       "      <td>1910.000000</td>\n",
       "      <td>7.618000e+03</td>\n",
       "      <td>1.500000</td>\n",
       "      <td>0.000000</td>\n",
       "      <td>0.000000</td>\n",
       "      <td>3.000000</td>\n",
       "      <td>7.000000</td>\n",
       "      <td>1560.000000</td>\n",
       "      <td>0.000000</td>\n",
       "      <td>1975.000000</td>\n",
       "      <td>0.000000</td>\n",
       "      <td>98065.000000</td>\n",
       "      <td>47.571800</td>\n",
       "      <td>-122.230000</td>\n",
       "      <td>1840.000000</td>\n",
       "      <td>7620.000000</td>\n",
       "    </tr>\n",
       "    <tr>\n",
       "      <th>75%</th>\n",
       "      <td>7.308900e+09</td>\n",
       "      <td>6.450000e+05</td>\n",
       "      <td>4.000000</td>\n",
       "      <td>2.500000</td>\n",
       "      <td>2550.000000</td>\n",
       "      <td>1.068800e+04</td>\n",
       "      <td>2.000000</td>\n",
       "      <td>0.000000</td>\n",
       "      <td>0.000000</td>\n",
       "      <td>4.000000</td>\n",
       "      <td>8.000000</td>\n",
       "      <td>2210.000000</td>\n",
       "      <td>560.000000</td>\n",
       "      <td>1997.000000</td>\n",
       "      <td>0.000000</td>\n",
       "      <td>98118.000000</td>\n",
       "      <td>47.678000</td>\n",
       "      <td>-122.125000</td>\n",
       "      <td>2360.000000</td>\n",
       "      <td>10083.000000</td>\n",
       "    </tr>\n",
       "    <tr>\n",
       "      <th>max</th>\n",
       "      <td>9.900000e+09</td>\n",
       "      <td>7.700000e+06</td>\n",
       "      <td>33.000000</td>\n",
       "      <td>8.000000</td>\n",
       "      <td>13540.000000</td>\n",
       "      <td>1.651359e+06</td>\n",
       "      <td>3.500000</td>\n",
       "      <td>1.000000</td>\n",
       "      <td>4.000000</td>\n",
       "      <td>5.000000</td>\n",
       "      <td>13.000000</td>\n",
       "      <td>9410.000000</td>\n",
       "      <td>4820.000000</td>\n",
       "      <td>2015.000000</td>\n",
       "      <td>2015.000000</td>\n",
       "      <td>98199.000000</td>\n",
       "      <td>47.777600</td>\n",
       "      <td>-121.315000</td>\n",
       "      <td>6210.000000</td>\n",
       "      <td>871200.000000</td>\n",
       "    </tr>\n",
       "  </tbody>\n",
       "</table>\n",
       "</div>"
      ],
      "text/plain": [
       "                 id         price      bedrooms     bathrooms   sqft_living  \\\n",
       "count  2.161300e+04  2.161300e+04  21613.000000  21613.000000  21613.000000   \n",
       "mean   4.580302e+09  5.400881e+05      3.370842      2.114757   2079.899736   \n",
       "std    2.876566e+09  3.671272e+05      0.930062      0.770163    918.440897   \n",
       "min    1.000102e+06  7.500000e+04      0.000000      0.000000    290.000000   \n",
       "25%    2.123049e+09  3.219500e+05      3.000000      1.750000   1427.000000   \n",
       "50%    3.904930e+09  4.500000e+05      3.000000      2.250000   1910.000000   \n",
       "75%    7.308900e+09  6.450000e+05      4.000000      2.500000   2550.000000   \n",
       "max    9.900000e+09  7.700000e+06     33.000000      8.000000  13540.000000   \n",
       "\n",
       "           sqft_lot        floors    waterfront          view     condition  \\\n",
       "count  2.161300e+04  21613.000000  21613.000000  21613.000000  21613.000000   \n",
       "mean   1.510697e+04      1.494309      0.007542      0.234303      3.409430   \n",
       "std    4.142051e+04      0.539989      0.086517      0.766318      0.650743   \n",
       "min    5.200000e+02      1.000000      0.000000      0.000000      1.000000   \n",
       "25%    5.040000e+03      1.000000      0.000000      0.000000      3.000000   \n",
       "50%    7.618000e+03      1.500000      0.000000      0.000000      3.000000   \n",
       "75%    1.068800e+04      2.000000      0.000000      0.000000      4.000000   \n",
       "max    1.651359e+06      3.500000      1.000000      4.000000      5.000000   \n",
       "\n",
       "              grade    sqft_above  sqft_basement      yr_built  yr_renovated  \\\n",
       "count  21613.000000  21613.000000   21613.000000  21613.000000  21613.000000   \n",
       "mean       7.656873   1788.390691     291.509045   1971.005136     84.402258   \n",
       "std        1.175459    828.090978     442.575043     29.373411    401.679240   \n",
       "min        1.000000    290.000000       0.000000   1900.000000      0.000000   \n",
       "25%        7.000000   1190.000000       0.000000   1951.000000      0.000000   \n",
       "50%        7.000000   1560.000000       0.000000   1975.000000      0.000000   \n",
       "75%        8.000000   2210.000000     560.000000   1997.000000      0.000000   \n",
       "max       13.000000   9410.000000    4820.000000   2015.000000   2015.000000   \n",
       "\n",
       "            zipcode           lat          long  sqft_living15     sqft_lot15  \n",
       "count  21613.000000  21613.000000  21613.000000   21613.000000   21613.000000  \n",
       "mean   98077.939805     47.560053   -122.213896    1986.552492   12768.455652  \n",
       "std       53.505026      0.138564      0.140828     685.391304   27304.179631  \n",
       "min    98001.000000     47.155900   -122.519000     399.000000     651.000000  \n",
       "25%    98033.000000     47.471000   -122.328000    1490.000000    5100.000000  \n",
       "50%    98065.000000     47.571800   -122.230000    1840.000000    7620.000000  \n",
       "75%    98118.000000     47.678000   -122.125000    2360.000000   10083.000000  \n",
       "max    98199.000000     47.777600   -121.315000    6210.000000  871200.000000  "
      ]
     },
     "execution_count": 12,
     "metadata": {},
     "output_type": "execute_result"
    }
   ],
   "source": [
    "df.describe()"
   ]
  },
  {
   "cell_type": "markdown",
   "id": "1cfd273b",
   "metadata": {
    "papermill": {
     "duration": 0.01706,
     "end_time": "2023-06-16T13:11:49.844241",
     "exception": false,
     "start_time": "2023-06-16T13:11:49.827181",
     "status": "completed"
    },
    "tags": []
   },
   "source": [
    "# EDA and Data Preprocessing"
   ]
  },
  {
   "cell_type": "code",
   "execution_count": 13,
   "id": "fcababe4",
   "metadata": {
    "execution": {
     "iopub.execute_input": "2023-06-16T13:11:49.879964Z",
     "iopub.status.busy": "2023-06-16T13:11:49.879286Z",
     "iopub.status.idle": "2023-06-16T13:11:49.887929Z",
     "shell.execute_reply": "2023-06-16T13:11:49.886847Z"
    },
    "papermill": {
     "duration": 0.029216,
     "end_time": "2023-06-16T13:11:49.890142",
     "exception": false,
     "start_time": "2023-06-16T13:11:49.860926",
     "status": "completed"
    },
    "tags": []
   },
   "outputs": [
    {
     "data": {
      "text/plain": [
       "0        20141013T000000\n",
       "1        20141209T000000\n",
       "2        20150225T000000\n",
       "3        20141209T000000\n",
       "4        20150218T000000\n",
       "              ...       \n",
       "21608    20140521T000000\n",
       "21609    20150223T000000\n",
       "21610    20140623T000000\n",
       "21611    20150116T000000\n",
       "21612    20141015T000000\n",
       "Name: date, Length: 21613, dtype: object"
      ]
     },
     "execution_count": 13,
     "metadata": {},
     "output_type": "execute_result"
    }
   ],
   "source": [
    "#Handling date column\n",
    "df[\"date\"]"
   ]
  },
  {
   "cell_type": "code",
   "execution_count": 14,
   "id": "511f1f26",
   "metadata": {
    "execution": {
     "iopub.execute_input": "2023-06-16T13:11:49.925284Z",
     "iopub.status.busy": "2023-06-16T13:11:49.924628Z",
     "iopub.status.idle": "2023-06-16T13:11:49.945750Z",
     "shell.execute_reply": "2023-06-16T13:11:49.944624Z"
    },
    "papermill": {
     "duration": 0.041995,
     "end_time": "2023-06-16T13:11:49.948553",
     "exception": false,
     "start_time": "2023-06-16T13:11:49.906558",
     "status": "completed"
    },
    "tags": []
   },
   "outputs": [],
   "source": [
    "df[\"datetime\"] = pd.to_datetime(df[\"date\"])\n",
    "df[\"year\"] = df[\"datetime\"].dt.year\n",
    "df[\"month\"] = df[\"datetime\"].dt.month"
   ]
  },
  {
   "cell_type": "code",
   "execution_count": 15,
   "id": "f89442f8",
   "metadata": {
    "execution": {
     "iopub.execute_input": "2023-06-16T13:11:49.984562Z",
     "iopub.status.busy": "2023-06-16T13:11:49.983947Z",
     "iopub.status.idle": "2023-06-16T13:11:50.011957Z",
     "shell.execute_reply": "2023-06-16T13:11:50.010478Z"
    },
    "papermill": {
     "duration": 0.050443,
     "end_time": "2023-06-16T13:11:50.015768",
     "exception": false,
     "start_time": "2023-06-16T13:11:49.965325",
     "status": "completed"
    },
    "tags": []
   },
   "outputs": [
    {
     "data": {
      "text/html": [
       "<div>\n",
       "<style scoped>\n",
       "    .dataframe tbody tr th:only-of-type {\n",
       "        vertical-align: middle;\n",
       "    }\n",
       "\n",
       "    .dataframe tbody tr th {\n",
       "        vertical-align: top;\n",
       "    }\n",
       "\n",
       "    .dataframe thead th {\n",
       "        text-align: right;\n",
       "    }\n",
       "</style>\n",
       "<table border=\"1\" class=\"dataframe\">\n",
       "  <thead>\n",
       "    <tr style=\"text-align: right;\">\n",
       "      <th></th>\n",
       "      <th>id</th>\n",
       "      <th>date</th>\n",
       "      <th>price</th>\n",
       "      <th>bedrooms</th>\n",
       "      <th>bathrooms</th>\n",
       "      <th>sqft_living</th>\n",
       "      <th>sqft_lot</th>\n",
       "      <th>floors</th>\n",
       "      <th>waterfront</th>\n",
       "      <th>view</th>\n",
       "      <th>...</th>\n",
       "      <th>yr_built</th>\n",
       "      <th>yr_renovated</th>\n",
       "      <th>zipcode</th>\n",
       "      <th>lat</th>\n",
       "      <th>long</th>\n",
       "      <th>sqft_living15</th>\n",
       "      <th>sqft_lot15</th>\n",
       "      <th>datetime</th>\n",
       "      <th>year</th>\n",
       "      <th>month</th>\n",
       "    </tr>\n",
       "  </thead>\n",
       "  <tbody>\n",
       "    <tr>\n",
       "      <th>0</th>\n",
       "      <td>7129300520</td>\n",
       "      <td>20141013T000000</td>\n",
       "      <td>221900.0</td>\n",
       "      <td>3</td>\n",
       "      <td>1.00</td>\n",
       "      <td>1180</td>\n",
       "      <td>5650</td>\n",
       "      <td>1.0</td>\n",
       "      <td>0</td>\n",
       "      <td>0</td>\n",
       "      <td>...</td>\n",
       "      <td>1955</td>\n",
       "      <td>0</td>\n",
       "      <td>98178</td>\n",
       "      <td>47.5112</td>\n",
       "      <td>-122.257</td>\n",
       "      <td>1340</td>\n",
       "      <td>5650</td>\n",
       "      <td>2014-10-13</td>\n",
       "      <td>2014</td>\n",
       "      <td>10</td>\n",
       "    </tr>\n",
       "    <tr>\n",
       "      <th>1</th>\n",
       "      <td>6414100192</td>\n",
       "      <td>20141209T000000</td>\n",
       "      <td>538000.0</td>\n",
       "      <td>3</td>\n",
       "      <td>2.25</td>\n",
       "      <td>2570</td>\n",
       "      <td>7242</td>\n",
       "      <td>2.0</td>\n",
       "      <td>0</td>\n",
       "      <td>0</td>\n",
       "      <td>...</td>\n",
       "      <td>1951</td>\n",
       "      <td>1991</td>\n",
       "      <td>98125</td>\n",
       "      <td>47.7210</td>\n",
       "      <td>-122.319</td>\n",
       "      <td>1690</td>\n",
       "      <td>7639</td>\n",
       "      <td>2014-12-09</td>\n",
       "      <td>2014</td>\n",
       "      <td>12</td>\n",
       "    </tr>\n",
       "    <tr>\n",
       "      <th>2</th>\n",
       "      <td>5631500400</td>\n",
       "      <td>20150225T000000</td>\n",
       "      <td>180000.0</td>\n",
       "      <td>2</td>\n",
       "      <td>1.00</td>\n",
       "      <td>770</td>\n",
       "      <td>10000</td>\n",
       "      <td>1.0</td>\n",
       "      <td>0</td>\n",
       "      <td>0</td>\n",
       "      <td>...</td>\n",
       "      <td>1933</td>\n",
       "      <td>0</td>\n",
       "      <td>98028</td>\n",
       "      <td>47.7379</td>\n",
       "      <td>-122.233</td>\n",
       "      <td>2720</td>\n",
       "      <td>8062</td>\n",
       "      <td>2015-02-25</td>\n",
       "      <td>2015</td>\n",
       "      <td>2</td>\n",
       "    </tr>\n",
       "    <tr>\n",
       "      <th>3</th>\n",
       "      <td>2487200875</td>\n",
       "      <td>20141209T000000</td>\n",
       "      <td>604000.0</td>\n",
       "      <td>4</td>\n",
       "      <td>3.00</td>\n",
       "      <td>1960</td>\n",
       "      <td>5000</td>\n",
       "      <td>1.0</td>\n",
       "      <td>0</td>\n",
       "      <td>0</td>\n",
       "      <td>...</td>\n",
       "      <td>1965</td>\n",
       "      <td>0</td>\n",
       "      <td>98136</td>\n",
       "      <td>47.5208</td>\n",
       "      <td>-122.393</td>\n",
       "      <td>1360</td>\n",
       "      <td>5000</td>\n",
       "      <td>2014-12-09</td>\n",
       "      <td>2014</td>\n",
       "      <td>12</td>\n",
       "    </tr>\n",
       "    <tr>\n",
       "      <th>4</th>\n",
       "      <td>1954400510</td>\n",
       "      <td>20150218T000000</td>\n",
       "      <td>510000.0</td>\n",
       "      <td>3</td>\n",
       "      <td>2.00</td>\n",
       "      <td>1680</td>\n",
       "      <td>8080</td>\n",
       "      <td>1.0</td>\n",
       "      <td>0</td>\n",
       "      <td>0</td>\n",
       "      <td>...</td>\n",
       "      <td>1987</td>\n",
       "      <td>0</td>\n",
       "      <td>98074</td>\n",
       "      <td>47.6168</td>\n",
       "      <td>-122.045</td>\n",
       "      <td>1800</td>\n",
       "      <td>7503</td>\n",
       "      <td>2015-02-18</td>\n",
       "      <td>2015</td>\n",
       "      <td>2</td>\n",
       "    </tr>\n",
       "  </tbody>\n",
       "</table>\n",
       "<p>5 rows × 24 columns</p>\n",
       "</div>"
      ],
      "text/plain": [
       "           id             date     price  bedrooms  bathrooms  sqft_living  \\\n",
       "0  7129300520  20141013T000000  221900.0         3       1.00         1180   \n",
       "1  6414100192  20141209T000000  538000.0         3       2.25         2570   \n",
       "2  5631500400  20150225T000000  180000.0         2       1.00          770   \n",
       "3  2487200875  20141209T000000  604000.0         4       3.00         1960   \n",
       "4  1954400510  20150218T000000  510000.0         3       2.00         1680   \n",
       "\n",
       "   sqft_lot  floors  waterfront  view  ...  yr_built  yr_renovated  zipcode  \\\n",
       "0      5650     1.0           0     0  ...      1955             0    98178   \n",
       "1      7242     2.0           0     0  ...      1951          1991    98125   \n",
       "2     10000     1.0           0     0  ...      1933             0    98028   \n",
       "3      5000     1.0           0     0  ...      1965             0    98136   \n",
       "4      8080     1.0           0     0  ...      1987             0    98074   \n",
       "\n",
       "       lat     long  sqft_living15  sqft_lot15   datetime  year  month  \n",
       "0  47.5112 -122.257           1340        5650 2014-10-13  2014     10  \n",
       "1  47.7210 -122.319           1690        7639 2014-12-09  2014     12  \n",
       "2  47.7379 -122.233           2720        8062 2015-02-25  2015      2  \n",
       "3  47.5208 -122.393           1360        5000 2014-12-09  2014     12  \n",
       "4  47.6168 -122.045           1800        7503 2015-02-18  2015      2  \n",
       "\n",
       "[5 rows x 24 columns]"
      ]
     },
     "execution_count": 15,
     "metadata": {},
     "output_type": "execute_result"
    }
   ],
   "source": [
    "df.head()"
   ]
  },
  {
   "cell_type": "code",
   "execution_count": 16,
   "id": "ae130a2b",
   "metadata": {
    "execution": {
     "iopub.execute_input": "2023-06-16T13:11:50.056256Z",
     "iopub.status.busy": "2023-06-16T13:11:50.055498Z",
     "iopub.status.idle": "2023-06-16T13:11:50.337639Z",
     "shell.execute_reply": "2023-06-16T13:11:50.336011Z"
    },
    "papermill": {
     "duration": 0.306982,
     "end_time": "2023-06-16T13:11:50.340547",
     "exception": false,
     "start_time": "2023-06-16T13:11:50.033565",
     "status": "completed"
    },
    "tags": []
   },
   "outputs": [
    {
     "data": {
      "image/png": "[encoded data removed]",
      "text/plain": [
       "<Figure size 700x500 with 1 Axes>"
      ]
     },
     "metadata": {},
     "output_type": "display_data"
    }
   ],
   "source": [
    "plt.figure(figsize = (7, 5))\n",
    "plt.boxplot(df[\"bedrooms\"])\n",
    "plt.xlabel(\"Bedrooms\")\n",
    "plt.ylabel(\"Count\")\n",
    "plt.title(\"Bedrooms Distribution\")\n",
    "plt.show()"
   ]
  },
  {
   "cell_type": "code",
   "execution_count": 17,
   "id": "0126ddb1",
   "metadata": {
    "execution": {
     "iopub.execute_input": "2023-06-16T13:11:50.388389Z",
     "iopub.status.busy": "2023-06-16T13:11:50.387989Z",
     "iopub.status.idle": "2023-06-16T13:11:50.713914Z",
     "shell.execute_reply": "2023-06-16T13:11:50.712759Z"
    },
    "papermill": {
     "duration": 0.353194,
     "end_time": "2023-06-16T13:11:50.717185",
     "exception": false,
     "start_time": "2023-06-16T13:11:50.363991",
     "status": "completed"
    },
    "tags": []
   },
   "outputs": [
    {
     "data": {
      "image/png": "[encoded data removed]",
      "text/plain": [
       "<Figure size 1000x500 with 1 Axes>"
      ]
     },
     "metadata": {},
     "output_type": "display_data"
    }
   ],
   "source": [
    "# Number of Houses per Year\n",
    "houses_per_year = df.groupby(\"yr_built\")[\"id\"].count()\n",
    "plt.figure(figsize = (10, 5))\n",
    "plt.plot(houses_per_year.index, houses_per_year.values)\n",
    "plt.xlabel(\"Year\")\n",
    "plt.ylabel(\"Number of Houses\")\n",
    "plt.title(\"Number of Houses per Year\")\n",
    "plt.show()"
   ]
  },
  {
   "cell_type": "code",
   "execution_count": 18,
   "id": "238f78a2",
   "metadata": {
    "execution": {
     "iopub.execute_input": "2023-06-16T13:11:50.761307Z",
     "iopub.status.busy": "2023-06-16T13:11:50.760394Z",
     "iopub.status.idle": "2023-06-16T13:11:51.230670Z",
     "shell.execute_reply": "2023-06-16T13:11:51.228684Z"
    },
    "papermill": {
     "duration": 0.495122,
     "end_time": "2023-06-16T13:11:51.234014",
     "exception": false,
     "start_time": "2023-06-16T13:11:50.738892",
     "status": "completed"
    },
    "tags": []
   },
   "outputs": [
    {
     "data": {
      "text/plain": [
       "<Axes: xlabel='price', ylabel='sqft_living'>"
      ]
     },
     "execution_count": 18,
     "metadata": {},
     "output_type": "execute_result"
    },
    {
     "data": {
      "image/png": "[encoded data removed]",
      "text/plain": [
       "<Figure size 1000x700 with 1 Axes>"
      ]
     },
     "metadata": {},
     "output_type": "display_data"
    }
   ],
   "source": [
    "# Square footage of the apartments interior living space VS Price\n",
    "plt.figure(figsize = (10, 7))\n",
    "sns.scatterplot(x = \"price\", y = \"sqft_living\", data = df)"
   ]
  },
  {
   "cell_type": "markdown",
   "id": "251c40f6",
   "metadata": {
    "papermill": {
     "duration": 0.019247,
     "end_time": "2023-06-16T13:11:51.273507",
     "exception": false,
     "start_time": "2023-06-16T13:11:51.254260",
     "status": "completed"
    },
    "tags": []
   },
   "source": [
    "### What is the largest number of bedrooms in houses?"
   ]
  },
  {
   "cell_type": "code",
   "execution_count": 19,
   "id": "10a3ec59",
   "metadata": {
    "execution": {
     "iopub.execute_input": "2023-06-16T13:11:51.316080Z",
     "iopub.status.busy": "2023-06-16T13:11:51.315010Z",
     "iopub.status.idle": "2023-06-16T13:11:51.324907Z",
     "shell.execute_reply": "2023-06-16T13:11:51.323282Z"
    },
    "papermill": {
     "duration": 0.034099,
     "end_time": "2023-06-16T13:11:51.327284",
     "exception": false,
     "start_time": "2023-06-16T13:11:51.293185",
     "status": "completed"
    },
    "tags": []
   },
   "outputs": [
    {
     "name": "stdout",
     "output_type": "stream",
     "text": [
      "Largest number of bedrooms in houses: 33\n"
     ]
    }
   ],
   "source": [
    "print(\"Largest number of bedrooms in houses:\", max(df[\"bedrooms\"]))"
   ]
  },
  {
   "cell_type": "markdown",
   "id": "1925a099",
   "metadata": {
    "papermill": {
     "duration": 0.025368,
     "end_time": "2023-06-16T13:11:51.373874",
     "exception": false,
     "start_time": "2023-06-16T13:11:51.348506",
     "status": "completed"
    },
    "tags": []
   },
   "source": [
    "### What are the oldest and newest houses?"
   ]
  },
  {
   "cell_type": "code",
   "execution_count": 20,
   "id": "ea43f1c8",
   "metadata": {
    "execution": {
     "iopub.execute_input": "2023-06-16T13:11:51.429244Z",
     "iopub.status.busy": "2023-06-16T13:11:51.428600Z",
     "iopub.status.idle": "2023-06-16T13:11:51.434882Z",
     "shell.execute_reply": "2023-06-16T13:11:51.434081Z"
    },
    "papermill": {
     "duration": 0.035552,
     "end_time": "2023-06-16T13:11:51.437896",
     "exception": false,
     "start_time": "2023-06-16T13:11:51.402344",
     "status": "completed"
    },
    "tags": []
   },
   "outputs": [
    {
     "name": "stdout",
     "output_type": "stream",
     "text": [
      "The oldest house:  1900\n",
      "The newst house:  2015\n"
     ]
    }
   ],
   "source": [
    "print(\"The oldest house: \", df[\"yr_built\"].min())\n",
    "print(\"The newst house: \", df[\"yr_built\"].max())"
   ]
  },
  {
   "cell_type": "markdown",
   "id": "3a60da0b",
   "metadata": {
    "papermill": {
     "duration": 0.020019,
     "end_time": "2023-06-16T13:11:51.481625",
     "exception": false,
     "start_time": "2023-06-16T13:11:51.461606",
     "status": "completed"
    },
    "tags": []
   },
   "source": [
    "### What are the unique years in our dataset?"
   ]
  },
  {
   "cell_type": "code",
   "execution_count": 21,
   "id": "430053db",
   "metadata": {
    "execution": {
     "iopub.execute_input": "2023-06-16T13:11:51.525273Z",
     "iopub.status.busy": "2023-06-16T13:11:51.524835Z",
     "iopub.status.idle": "2023-06-16T13:11:51.534695Z",
     "shell.execute_reply": "2023-06-16T13:11:51.533856Z"
    },
    "papermill": {
     "duration": 0.03466,
     "end_time": "2023-06-16T13:11:51.537030",
     "exception": false,
     "start_time": "2023-06-16T13:11:51.502370",
     "status": "completed"
    },
    "tags": []
   },
   "outputs": [
    {
     "data": {
      "text/plain": [
       "array([1900, 1901, 1902, 1903, 1904, 1905, 1906, 1907, 1908, 1909, 1910,\n",
       "       1911, 1912, 1913, 1914, 1915, 1916, 1917, 1918, 1919, 1920, 1921,\n",
       "       1922, 1923, 1924, 1925, 1926, 1927, 1928, 1929, 1930, 1931, 1932,\n",
       "       1933, 1934, 1935, 1936, 1937, 1938, 1939, 1940, 1941, 1942, 1943,\n",
       "       1944, 1945, 1946, 1947, 1948, 1949, 1950, 1951, 1952, 1953, 1954,\n",
       "       1955, 1956, 1957, 1958, 1959, 1960, 1961, 1962, 1963, 1964, 1965,\n",
       "       1966, 1967, 1968, 1969, 1970, 1971, 1972, 1973, 1974, 1975, 1976,\n",
       "       1977, 1978, 1979, 1980, 1981, 1982, 1983, 1984, 1985, 1986, 1987,\n",
       "       1988, 1989, 1990, 1991, 1992, 1993, 1994, 1995, 1996, 1997, 1998,\n",
       "       1999, 2000, 2001, 2002, 2003, 2004, 2005, 2006, 2007, 2008, 2009,\n",
       "       2010, 2011, 2012, 2013, 2014, 2015])"
      ]
     },
     "execution_count": 21,
     "metadata": {},
     "output_type": "execute_result"
    }
   ],
   "source": [
    "year_unique = df[\"yr_built\"].sort_values().unique()\n",
    "year_unique"
   ]
  },
  {
   "cell_type": "markdown",
   "id": "a49ed3df",
   "metadata": {
    "papermill": {
     "duration": 0.019785,
     "end_time": "2023-06-16T13:11:51.577354",
     "exception": false,
     "start_time": "2023-06-16T13:11:51.557569",
     "status": "completed"
    },
    "tags": []
   },
   "source": [
    "# Correlation Matrix"
   ]
  },
  {
   "cell_type": "code",
   "execution_count": 22,
   "id": "92d34d86",
   "metadata": {
    "execution": {
     "iopub.execute_input": "2023-06-16T13:11:51.620344Z",
     "iopub.status.busy": "2023-06-16T13:11:51.619634Z",
     "iopub.status.idle": "2023-06-16T13:11:52.543853Z",
     "shell.execute_reply": "2023-06-16T13:11:52.542952Z"
    },
    "papermill": {
     "duration": 0.949027,
     "end_time": "2023-06-16T13:11:52.546501",
     "exception": false,
     "start_time": "2023-06-16T13:11:51.597474",
     "status": "completed"
    },
    "tags": []
   },
   "outputs": [
    {
     "data": {
      "image/png": "[encoded data removed]",
      "text/plain": [
       "<Figure size 1500x800 with 2 Axes>"
      ]
     },
     "metadata": {},
     "output_type": "display_data"
    }
   ],
   "source": [
    "corr = df.corr()\n",
    "k = 10  # number of columns in our heatmap\n",
    "cols = corr.nlargest(k, \"price\")[\"price\"].index\n",
    "cm = np.corrcoef(df[cols].values.T)\n",
    "\n",
    "with sns.axes_style(\"white\"):\n",
    "    f, ax = plt.subplots(figsize = (15, 8))\n",
    "    sns.set(font_scale = 0.8)\n",
    "    ax = sns.heatmap(cm, cbar = True, square = True, annot = True, fmt = \"0.2f\", linewidths = 0.8, cmap = \"viridis_r\",\n",
    "                    annot_kws = {\"size\": 8}, yticklabels = cols.values, xticklabels = cols.values)"
   ]
  },
  {
   "cell_type": "code",
   "execution_count": 23,
   "id": "cf98a0ad",
   "metadata": {
    "execution": {
     "iopub.execute_input": "2023-06-16T13:11:52.591099Z",
     "iopub.status.busy": "2023-06-16T13:11:52.590407Z",
     "iopub.status.idle": "2023-06-16T13:11:52.596631Z",
     "shell.execute_reply": "2023-06-16T13:11:52.595830Z"
    },
    "papermill": {
     "duration": 0.03107,
     "end_time": "2023-06-16T13:11:52.598864",
     "exception": false,
     "start_time": "2023-06-16T13:11:52.567794",
     "status": "completed"
    },
    "tags": []
   },
   "outputs": [
    {
     "data": {
      "text/plain": [
       "Index(['id', 'date', 'price', 'bedrooms', 'bathrooms', 'sqft_living',\n",
       "       'sqft_lot', 'floors', 'waterfront', 'view', 'condition', 'grade',\n",
       "       'sqft_above', 'sqft_basement', 'yr_built', 'yr_renovated', 'zipcode',\n",
       "       'lat', 'long', 'sqft_living15', 'sqft_lot15', 'datetime', 'year',\n",
       "       'month'],\n",
       "      dtype='object')"
      ]
     },
     "execution_count": 23,
     "metadata": {},
     "output_type": "execute_result"
    }
   ],
   "source": [
    "df.columns"
   ]
  },
  {
   "cell_type": "code",
   "execution_count": 24,
   "id": "780b98be",
   "metadata": {
    "execution": {
     "iopub.execute_input": "2023-06-16T13:11:52.644043Z",
     "iopub.status.busy": "2023-06-16T13:11:52.643389Z",
     "iopub.status.idle": "2023-06-16T13:11:52.651764Z",
     "shell.execute_reply": "2023-06-16T13:11:52.650714Z"
    },
    "papermill": {
     "duration": 0.033514,
     "end_time": "2023-06-16T13:11:52.654138",
     "exception": false,
     "start_time": "2023-06-16T13:11:52.620624",
     "status": "completed"
    },
    "tags": []
   },
   "outputs": [
    {
     "data": {
      "text/plain": [
       "Index(['price', 'bedrooms', 'bathrooms', 'sqft_living', 'sqft_lot', 'floors',\n",
       "       'waterfront', 'view', 'condition', 'grade', 'sqft_above',\n",
       "       'sqft_basement', 'yr_built', 'yr_renovated', 'zipcode', 'lat', 'long',\n",
       "       'sqft_living15', 'sqft_lot15', 'year', 'month'],\n",
       "      dtype='object')"
      ]
     },
     "execution_count": 24,
     "metadata": {},
     "output_type": "execute_result"
    }
   ],
   "source": [
    "df = df.drop(columns = [\"id\", \"date\", \"datetime\"])\n",
    "df.columns"
   ]
  },
  {
   "cell_type": "markdown",
   "id": "d40045fe",
   "metadata": {
    "papermill": {
     "duration": 0.02119,
     "end_time": "2023-06-16T13:11:52.696960",
     "exception": false,
     "start_time": "2023-06-16T13:11:52.675770",
     "status": "completed"
    },
    "tags": []
   },
   "source": [
    "# Initializing ML Models"
   ]
  },
  {
   "cell_type": "code",
   "execution_count": 25,
   "id": "d657361e",
   "metadata": {
    "execution": {
     "iopub.execute_input": "2023-06-16T13:11:52.743285Z",
     "iopub.status.busy": "2023-06-16T13:11:52.742910Z",
     "iopub.status.idle": "2023-06-16T13:11:52.749762Z",
     "shell.execute_reply": "2023-06-16T13:11:52.748602Z"
    },
    "papermill": {
     "duration": 0.032292,
     "end_time": "2023-06-16T13:11:52.751939",
     "exception": false,
     "start_time": "2023-06-16T13:11:52.719647",
     "status": "completed"
    },
    "tags": []
   },
   "outputs": [],
   "source": [
    "X = df.drop(\"price\", axis = 1)\n",
    "y = df[\"price\"]"
   ]
  },
  {
   "cell_type": "code",
   "execution_count": 26,
   "id": "2103707e",
   "metadata": {
    "execution": {
     "iopub.execute_input": "2023-06-16T13:11:52.797397Z",
     "iopub.status.busy": "2023-06-16T13:11:52.796668Z",
     "iopub.status.idle": "2023-06-16T13:11:52.802440Z",
     "shell.execute_reply": "2023-06-16T13:11:52.801412Z"
    },
    "papermill": {
     "duration": 0.030953,
     "end_time": "2023-06-16T13:11:52.804820",
     "exception": false,
     "start_time": "2023-06-16T13:11:52.773867",
     "status": "completed"
    },
    "tags": []
   },
   "outputs": [
    {
     "name": "stdout",
     "output_type": "stream",
     "text": [
      "(21613, 20) (21613,)\n"
     ]
    }
   ],
   "source": [
    "print(X.shape, y.shape)"
   ]
  },
  {
   "cell_type": "code",
   "execution_count": 27,
   "id": "27bb66bf",
   "metadata": {
    "execution": {
     "iopub.execute_input": "2023-06-16T13:11:52.850539Z",
     "iopub.status.busy": "2023-06-16T13:11:52.849442Z",
     "iopub.status.idle": "2023-06-16T13:11:52.860205Z",
     "shell.execute_reply": "2023-06-16T13:11:52.859150Z"
    },
    "papermill": {
     "duration": 0.036459,
     "end_time": "2023-06-16T13:11:52.862964",
     "exception": false,
     "start_time": "2023-06-16T13:11:52.826505",
     "status": "completed"
    },
    "tags": []
   },
   "outputs": [],
   "source": [
    "X_train, X_test, y_train, y_test = train_test_split(X, y, test_size = 0.2, random_state = 42)"
   ]
  },
  {
   "cell_type": "code",
   "execution_count": 28,
   "id": "ac9a4df2",
   "metadata": {
    "execution": {
     "iopub.execute_input": "2023-06-16T13:11:52.908751Z",
     "iopub.status.busy": "2023-06-16T13:11:52.908349Z",
     "iopub.status.idle": "2023-06-16T13:11:52.914741Z",
     "shell.execute_reply": "2023-06-16T13:11:52.913477Z"
    },
    "papermill": {
     "duration": 0.032565,
     "end_time": "2023-06-16T13:11:52.917202",
     "exception": false,
     "start_time": "2023-06-16T13:11:52.884637",
     "status": "completed"
    },
    "tags": []
   },
   "outputs": [
    {
     "name": "stdout",
     "output_type": "stream",
     "text": [
      "(17290, 20) (4323, 20) (17290,) (4323,)\n"
     ]
    }
   ],
   "source": [
    "print(X_train.shape, X_test.shape, y_train.shape, y_test.shape)"
   ]
  },
  {
   "cell_type": "markdown",
   "id": "f42b355d",
   "metadata": {
    "papermill": {
     "duration": 0.021479,
     "end_time": "2023-06-16T13:11:52.960640",
     "exception": false,
     "start_time": "2023-06-16T13:11:52.939161",
     "status": "completed"
    },
    "tags": []
   },
   "source": [
    "### Scaling Data"
   ]
  },
  {
   "cell_type": "code",
   "execution_count": 29,
   "id": "f7f46cf1",
   "metadata": {
    "execution": {
     "iopub.execute_input": "2023-06-16T13:11:53.006389Z",
     "iopub.status.busy": "2023-06-16T13:11:53.006015Z",
     "iopub.status.idle": "2023-06-16T13:11:53.022361Z",
     "shell.execute_reply": "2023-06-16T13:11:53.021216Z"
    },
    "papermill": {
     "duration": 0.042682,
     "end_time": "2023-06-16T13:11:53.025039",
     "exception": false,
     "start_time": "2023-06-16T13:11:52.982357",
     "status": "completed"
    },
    "tags": []
   },
   "outputs": [],
   "source": [
    "sc = StandardScaler()\n",
    "X_train = sc.fit_transform(X_train)\n",
    "X_test = sc.transform(X_test)"
   ]
  },
  {
   "cell_type": "markdown",
   "id": "d0ff9d46",
   "metadata": {
    "papermill": {
     "duration": 0.021398,
     "end_time": "2023-06-16T13:11:53.070285",
     "exception": false,
     "start_time": "2023-06-16T13:11:53.048887",
     "status": "completed"
    },
    "tags": []
   },
   "source": [
    "## Linear Regression"
   ]
  },
  {
   "cell_type": "code",
   "execution_count": 30,
   "id": "85cc326e",
   "metadata": {
    "execution": {
     "iopub.execute_input": "2023-06-16T13:11:53.116888Z",
     "iopub.status.busy": "2023-06-16T13:11:53.116485Z",
     "iopub.status.idle": "2023-06-16T13:11:53.174293Z",
     "shell.execute_reply": "2023-06-16T13:11:53.171975Z"
    },
    "papermill": {
     "duration": 0.08618,
     "end_time": "2023-06-16T13:11:53.178462",
     "exception": false,
     "start_time": "2023-06-16T13:11:53.092282",
     "status": "completed"
    },
    "tags": []
   },
   "outputs": [
    {
     "name": "stdout",
     "output_type": "stream",
     "text": [
      "R2 Score : 70.26040931979199 %\n"
     ]
    }
   ],
   "source": [
    "lr = LinearRegression()\n",
    "lr.fit(X_train, y_train)\n",
    "lr_pred = lr.predict(X_test)\n",
    "print(\"R2 Score :\",r2_score(y_test, lr_pred) * 100, \"%\")"
   ]
  },
  {
   "cell_type": "markdown",
   "id": "6d2448c4",
   "metadata": {
    "papermill": {
     "duration": 0.0379,
     "end_time": "2023-06-16T13:11:53.293387",
     "exception": false,
     "start_time": "2023-06-16T13:11:53.255487",
     "status": "completed"
    },
    "tags": []
   },
   "source": [
    "## SGDRegressor"
   ]
  },
  {
   "cell_type": "code",
   "execution_count": 31,
   "id": "ac1489db",
   "metadata": {
    "execution": {
     "iopub.execute_input": "2023-06-16T13:11:53.343099Z",
     "iopub.status.busy": "2023-06-16T13:11:53.342680Z",
     "iopub.status.idle": "2023-06-16T13:11:53.407665Z",
     "shell.execute_reply": "2023-06-16T13:11:53.406355Z"
    },
    "papermill": {
     "duration": 0.092252,
     "end_time": "2023-06-16T13:11:53.411180",
     "exception": false,
     "start_time": "2023-06-16T13:11:53.318928",
     "status": "completed"
    },
    "tags": []
   },
   "outputs": [
    {
     "name": "stdout",
     "output_type": "stream",
     "text": [
      "MSE:  45355572966.112816\n",
      "R2 Score:  69.9983070877666 %\n"
     ]
    }
   ],
   "source": [
    "sgd = SGDRegressor()\n",
    "sgd.fit(X_train, y_train)\n",
    "sgd_pred = sgd.predict(X_test)\n",
    "# Performance Measurement\n",
    "print(\"MSE: \", mean_squared_error(y_test, sgd_pred))\n",
    "print(\"R2 Score: \", r2_score(y_test, sgd_pred) * 100, \"%\")"
   ]
  },
  {
   "cell_type": "markdown",
   "id": "2086165f",
   "metadata": {
    "papermill": {
     "duration": 0.046597,
     "end_time": "2023-06-16T13:11:53.505076",
     "exception": false,
     "start_time": "2023-06-16T13:11:53.458479",
     "status": "completed"
    },
    "tags": []
   },
   "source": [
    "## Model Hyperparameters Tuning"
   ]
  },
  {
   "cell_type": "code",
   "execution_count": 32,
   "id": "a8bc1af0",
   "metadata": {
    "execution": {
     "iopub.execute_input": "2023-06-16T13:11:53.561106Z",
     "iopub.status.busy": "2023-06-16T13:11:53.560692Z",
     "iopub.status.idle": "2023-06-16T13:12:22.783147Z",
     "shell.execute_reply": "2023-06-16T13:12:22.781678Z"
    },
    "papermill": {
     "duration": 29.251003,
     "end_time": "2023-06-16T13:12:22.787157",
     "exception": false,
     "start_time": "2023-06-16T13:11:53.536154",
     "status": "completed"
    },
    "tags": []
   },
   "outputs": [
    {
     "name": "stdout",
     "output_type": "stream",
     "text": [
      "{'alpha': 0.0001, 'learning_rate': 'invscaling', 'penalty': 'elasticnet'}\n",
      "Mean squared error = 45433874105.143\n",
      "R2 = 70 % \n"
     ]
    }
   ],
   "source": [
    "params = {\n",
    "    'learning_rate': ['constant', 'optimal', 'invscaling'],\n",
    "    'penalty': ['l1', 'l2', 'elasticnet'],\n",
    "    'alpha': [0.0001,0.001,0.01,0.1]\n",
    "   \n",
    "}\n",
    "# Use GridSearchCV to tune the hyperparameters\n",
    "grid = GridSearchCV(sgd, params, cv=5)\n",
    "grid.fit(X_train, y_train)\n",
    "\n",
    "# Print the best hyperparameters\n",
    "print(grid.best_params_)\n",
    "\n",
    "# Use the best hyperparameters to train the model\n",
    "sgd = SGDRegressor(**grid.best_params_)\n",
    "sgd.fit(X_train, y_train)\n",
    "\n",
    "# Evaluate the model on the testing set\n",
    "y_pred = sgd.predict(X_test)\n",
    "mse = mean_squared_error(y_test, y_pred)\n",
    "sgd_r3 = r2_score(y_test, y_pred)\n",
    "print(f\"Mean squared error = {mse}\")\n",
    "print(f\"R2 = {round(sgd_r3*100)} % \")"
   ]
  },
  {
   "cell_type": "code",
   "execution_count": 33,
   "id": "dc66034a",
   "metadata": {
    "execution": {
     "iopub.execute_input": "2023-06-16T13:12:22.883977Z",
     "iopub.status.busy": "2023-06-16T13:12:22.883092Z",
     "iopub.status.idle": "2023-06-16T13:12:22.980195Z",
     "shell.execute_reply": "2023-06-16T13:12:22.977925Z"
    },
    "papermill": {
     "duration": 0.149205,
     "end_time": "2023-06-16T13:12:22.982929",
     "exception": false,
     "start_time": "2023-06-16T13:12:22.833724",
     "status": "completed"
    },
    "tags": []
   },
   "outputs": [
    {
     "name": "stdout",
     "output_type": "stream",
     "text": [
      "The predicted  House Price =  [2.36901911e+09] M\n"
     ]
    }
   ],
   "source": [
    "sgd = SGDRegressor()\n",
    "sgd.fit(X_train, y_train)\n",
    "\n",
    "# Prediction\n",
    "pickle.dump(sgd,open('model.pkl','wb'))\n",
    "\n",
    "model = pickle.load(open('model.pkl','rb'))\n",
    "\n",
    "x=model.predict([[4,2.00,1920,7803,1.0,0,0,3,7,1080,840,1962,0,98155,47.7580,-122.325,1940,8147,2014,12]])*-1\n",
    "print(\"The predicted  House Price = \",x,\"M\")"
   ]
  },
  {
   "cell_type": "code",
   "execution_count": 34,
   "id": "1da19457",
   "metadata": {
    "execution": {
     "iopub.execute_input": "2023-06-16T13:12:23.029327Z",
     "iopub.status.busy": "2023-06-16T13:12:23.028922Z",
     "iopub.status.idle": "2023-06-16T13:12:41.259429Z",
     "shell.execute_reply": "2023-06-16T13:12:41.258301Z"
    },
    "papermill": {
     "duration": 18.256573,
     "end_time": "2023-06-16T13:12:41.261876",
     "exception": false,
     "start_time": "2023-06-16T13:12:23.005303",
     "status": "completed"
    },
    "tags": []
   },
   "outputs": [
    {
     "name": "stdout",
     "output_type": "stream",
     "text": [
      "86.04176711555105 %\n"
     ]
    }
   ],
   "source": [
    "rfg_model = RandomForestRegressor()\n",
    "rfg_model.fit(X_train, y_train)\n",
    "\n",
    "print(rfg_model.score(X_test, y_test)*100,\"%\")"
   ]
  },
  {
   "cell_type": "markdown",
   "id": "0ffc6fb6",
   "metadata": {
    "papermill": {
     "duration": 0.022226,
     "end_time": "2023-06-16T13:12:41.307117",
     "exception": false,
     "start_time": "2023-06-16T13:12:41.284891",
     "status": "completed"
    },
    "tags": []
   },
   "source": [
    "## Thank you!"
   ]
  },
  {
   "cell_type": "code",
   "execution_count": null,
   "id": "2249922b",
   "metadata": {
    "papermill": {
     "duration": 0.02264,
     "end_time": "2023-06-16T13:12:41.352514",
     "exception": false,
     "start_time": "2023-06-16T13:12:41.329874",
     "status": "completed"
    },
    "tags": []
   },
   "outputs": [],
   "source": []
  }
 ],
 "metadata": {
  "kernelspec": {
   "display_name": "Python 3",
   "language": "python",
   "name": "python3"
  },
  "language_info": {
   "codemirror_mode": {
    "name": "ipython",
    "version": 3
   },
   "file_extension": ".py",
   "mimetype": "text/x-python",
   "name": "python",
   "nbconvert_exporter": "python",
   "pygments_lexer": "ipython3",
   "version": "3.10.10"
  },
  "papermill": {
   "default_parameters": {},
   "duration": 69.980268,
   "end_time": "2023-06-16T13:12:42.504360",
   "environment_variables": {},
   "exception": null,
   "input_path": "__notebook__.ipynb",
   "output_path": "__notebook__.ipynb",
   "parameters": {},
   "start_time": "2023-06-16T13:11:32.524092",
   "version": "2.4.0"
  }
 },
 "nbformat": 4,
 "nbformat_minor": 5
}
